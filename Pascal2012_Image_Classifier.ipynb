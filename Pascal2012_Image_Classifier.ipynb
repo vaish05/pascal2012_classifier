{
 "cells": [
  {
   "cell_type": "code",
   "execution_count": 2,
   "metadata": {},
   "outputs": [],
   "source": [
    "import os\n",
    "import cv2\n",
    "VOCpath = '\\\\subset\\\\ImageSets\\\\Main'\n",
    "TrVapath = '\\\\subset\\\\JPEGImages'\n",
    "home = os.getcwd()\n",
    "vpath = os.path.join(home, VOCpath)\n",
    "tvpath = os.path.join(home, TrVapath)"
   ]
  },
  {
   "cell_type": "code",
   "execution_count": 2,
   "metadata": {},
   "outputs": [],
   "source": [
    "os.chdir(vpath)\n",
    "for file in os.listdir():\n",
    "    img = cv2.resize(cv2.imread(file , 0), (256,256), interpolation = inter)"
   ]
  },
  {
   "cell_type": "code",
   "execution_count": null,
   "metadata": {},
   "outputs": [],
   "source": []
  }
 ],
 "metadata": {
  "kernelspec": {
   "display_name": "Python 3",
   "language": "python",
   "name": "python3"
  },
  "language_info": {
   "codemirror_mode": {
    "name": "ipython",
    "version": 3
   },
   "file_extension": ".py",
   "mimetype": "text/x-python",
   "name": "python",
   "nbconvert_exporter": "python",
   "pygments_lexer": "ipython3",
   "version": "3.6.5"
  }
 },
 "nbformat": 4,
 "nbformat_minor": 2
}
