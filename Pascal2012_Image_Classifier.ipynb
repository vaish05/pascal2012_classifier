{
 "cells": [
  {
   "cell_type": "code",
   "execution_count": 1,
   "metadata": {},
   "outputs": [],
   "source": [
    "import os\n",
    "import pandas as pd\n",
    "import numpy as np\n",
    "from matplotlib import pyplot as plt\n",
    "import cv2\n",
    "VOCpath = 'subset\\\\ImageSets\\\\Main'\n",
    "TrVapath = 'subset\\\\JPEGImages'\n",
    "home = os.getcwd()\n",
    "vpath = os.path.join(home, VOCpath)\n",
    "tvpath = os.path.join(home, TrVapath)"
   ]
  },
  {
   "cell_type": "code",
   "execution_count": 24,
   "metadata": {},
   "outputs": [],
   "source": [
    "os.chdir(vpath)\n",
    "aero = np.array([int(line.strip().split('  ')[1]) for line in open('aeroplane_trainval.txt')])\n",
    "cycle = np.array([int(line.strip().split('  ')[1]) for line in open('bicycle_trainval.txt')])\n",
    "bird = np.array([int(line.strip().split('  ')[1]) for line in open('bird_trainval.txt')])\n",
    "boat = np.array([int(line.strip().split('  ')[1]) for line in open('boat_trainval.txt')])\n",
    "bottle = np.array([int(line.strip().split('  ')[1]) for line in open('bottle_trainval.txt')])\n",
    "bus = np.array([int(line.strip().split('  ')[1]) for line in open('bus_trainval.txt')])\n",
    "car = np.array([int(line.strip().split('  ')[1]) for line in open('car_trainval.txt')])\n",
    "cat = np.array([int(line.strip().split('  ')[1]) for line in open('cat_trainval.txt')])\n",
    "chair = np.array([int(line.strip().split('  ')[1]) for line in open('chair_trainval.txt')])\n",
    "cow = np.array([int(line.strip().split('  ')[1]) for line in open('cow_trainval.txt')])\n",
    "dining = np.array([int(line.strip().split('  ')[1]) for line in open('diningtable_trainval.txt')])\n",
    "dog = np.array([int(line.strip().split('  ')[1]) for line in open('dog_trainval.txt')])\n",
    "horse = np.array([int(line.strip().split('  ')[1]) for line in open('horse_trainval.txt')])\n",
    "bike = np.array([int(line.strip().split('  ')[1]) for line in open('motorbike_trainval.txt')])\n",
    "person = np.array([int(line.strip().split('  ')[1]) for line in open('person_trainval.txt')])\n",
    "sheep = np.array([int(line.strip().split('  ')[1]) for line in open('sheep_trainval.txt')])\n",
    "sofa = np.array([int(line.strip().split('  ')[1]) for line in open('sofa_trainval.txt')])\n",
    "train = np.array([int(line.strip().split('  ')[1]) for line in open('train_trainval.txt')])\n",
    "tv = np.array([int(line.strip().split('  ')[1]) for line in open('tvmonitor_trainval.txt')])\n",
    "\n",
    "train_val = [line.strip() for line in open('trainval.txt')]\n",
    "labels = np.vstack((aero, cycle, bird, boat, bottle, bus, car, cat, chair, cow, dining, dog, horse, bike, person, sheep, sofa, train, tv))"
   ]
  },
  {
   "cell_type": "code",
   "execution_count": 25,
   "metadata": {},
   "outputs": [],
   "source": [
    "os.chdir(tvpath)\n",
    "feature = [np.float32(np.squeeze(cv2.resize(cv2.imread(file+'.jpg' , cv2.IMREAD_GRAYSCALE), (256,256), interpolation = cv2.INTER_AREA))).ravel() for file in train_val]\n",
    "#img = cv2.resize(cv2.cvtColor(cv2.imread(file+'.jpg'), cv2.COLOR_BGR2GRAY), (256,256), interpolation = cv2.INTER_AREA)\n",
    "classes = ['aero', 'cycle', 'bird', 'boat', 'bottle', 'bus', 'car', 'cat', 'chair', 'cow', 'dining', 'dog', 'horse', 'bike', 'person', 'sheep', 'sofa', 'train', 'tv']"
   ]
  },
  {
   "cell_type": "code",
   "execution_count": 27,
   "metadata": {},
   "outputs": [
    {
     "name": "stdout",
     "output_type": "stream",
     "text": [
      "Cross Validation scores for  aero :  [ 0.88235294  0.89705882  0.88235294  0.88235294  0.92537313]\n",
      "Accuracy: 0.89 (+/- 0.03)\n",
      "Cross Validation scores for  cycle :  [ 0.95588235  0.94117647  0.94117647  0.94117647  0.94029851]\n",
      "Accuracy: 0.94 (+/- 0.01)\n",
      "Cross Validation scores for  bird :  [ 0.92647059  0.91176471  0.94117647  0.91176471  0.94029851]\n",
      "Accuracy: 0.93 (+/- 0.03)\n",
      "Cross Validation scores for  boat :  [ 0.94117647  0.94117647  0.94117647  0.94117647  0.91044776]\n",
      "Accuracy: 0.94 (+/- 0.02)\n",
      "Cross Validation scores for  bottle :  [ 0.94117647  0.94117647  0.89705882  0.94117647  0.89552239]\n",
      "Accuracy: 0.92 (+/- 0.04)\n",
      "Cross Validation scores for  bus :  [ 0.94117647  0.91176471  0.94117647  0.94117647  0.92537313]\n",
      "Accuracy: 0.93 (+/- 0.02)\n",
      "Cross Validation scores for  car :  [ 0.91176471  0.91176471  0.89705882  0.94117647  0.94029851]\n",
      "Accuracy: 0.92 (+/- 0.03)\n",
      "Cross Validation scores for  cat :  [ 0.91176471  0.92647059  0.86764706  0.92647059  0.86567164]\n",
      "Accuracy: 0.90 (+/- 0.05)\n",
      "Cross Validation scores for  chair :  [ 0.88235294  0.94117647  0.94117647  0.92647059  0.92537313]\n",
      "Accuracy: 0.92 (+/- 0.04)\n",
      "Cross Validation scores for  cow :  [ 0.92647059  0.89705882  0.94117647  0.94117647  0.92537313]\n",
      "Accuracy: 0.93 (+/- 0.03)\n",
      "Cross Validation scores for  dining :  [ 0.92647059  0.92647059  0.94117647  0.89705882  0.94029851]\n",
      "Accuracy: 0.93 (+/- 0.03)\n",
      "Cross Validation scores for  dog :  [ 0.94117647  0.92647059  0.94117647  0.91176471  0.91044776]\n",
      "Accuracy: 0.93 (+/- 0.03)\n",
      "Cross Validation scores for  horse :  [ 0.94117647  0.92647059  0.92647059  0.94117647  0.95522388]\n",
      "Accuracy: 0.94 (+/- 0.02)\n",
      "Cross Validation scores for  bike :  [ 0.94117647  0.94117647  0.92647059  0.94117647  0.94029851]\n",
      "Accuracy: 0.94 (+/- 0.01)\n",
      "Cross Validation scores for  person :  [ 0.94117647  0.92647059  0.94117647  0.94117647  0.94029851]\n",
      "Accuracy: 0.94 (+/- 0.01)\n",
      "Cross Validation scores for  sheep :  [ 0.86764706  0.89705882  0.83823529  0.89705882  0.91044776]\n",
      "Accuracy: 0.88 (+/- 0.05)\n",
      "Cross Validation scores for  sofa :  [ 0.91176471  0.94117647  0.92647059  0.92647059  0.91044776]\n",
      "Accuracy: 0.92 (+/- 0.02)\n",
      "Cross Validation scores for  train :  [ 0.92647059  0.92647059  0.94117647  0.95588235  0.89552239]\n",
      "Accuracy: 0.93 (+/- 0.04)\n",
      "Cross Validation scores for  tv :  [ 0.91176471  0.91176471  0.92647059  0.94117647  0.94029851]\n",
      "Accuracy: 0.93 (+/- 0.03)\n"
     ]
    }
   ],
   "source": [
    "from sklearn import svm\n",
    "from sklearn.model_selection import cross_val_score\n",
    "\n",
    "clf = svm.SVC(kernel='linear', C=1)\n",
    "\n",
    "for idx, value in enumerate(classes):\n",
    "    scores = cross_val_score(clf, feature, labels[idx], cv=5)\n",
    "\n",
    "    print (\"Cross Validation scores for \", value, \": \", scores)\n",
    "\n",
    "    print(\"Accuracy: %0.2f (+/- %0.2f)\" % (scores.mean(), scores.std() * 2))"
   ]
  },
  {
   "cell_type": "code",
   "execution_count": null,
   "metadata": {},
   "outputs": [],
   "source": []
  }
 ],
 "metadata": {
  "kernelspec": {
   "display_name": "Python 3",
   "language": "python",
   "name": "python3"
  },
  "language_info": {
   "codemirror_mode": {
    "name": "ipython",
    "version": 3
   },
   "file_extension": ".py",
   "mimetype": "text/x-python",
   "name": "python",
   "nbconvert_exporter": "python",
   "pygments_lexer": "ipython3",
   "version": "3.6.5"
  }
 },
 "nbformat": 4,
 "nbformat_minor": 2
}
