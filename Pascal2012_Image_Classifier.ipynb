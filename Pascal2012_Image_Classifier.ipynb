{
 "cells": [
  {
   "cell_type": "code",
   "execution_count": 1,
   "metadata": {},
   "outputs": [],
   "source": [
    "import os\n",
    "import pandas as pd\n",
    "import numpy as np\n",
    "from matplotlib import pyplot as plt\n",
    "import cv2\n",
    "VOCpath = 'subset\\\\ImageSets\\\\Main'\n",
    "TrVapath = 'subset\\\\JPEGImages'\n",
    "home = os.getcwd()\n",
    "vpath = os.path.join(home, VOCpath)\n",
    "tvpath = os.path.join(home, TrVapath)"
   ]
  },
  {
   "cell_type": "code",
   "execution_count": 2,
   "metadata": {},
   "outputs": [],
   "source": [
    "os.chdir(vpath)\n",
    "aero = [line.strip().split('  ')[1] for line in open('aeroplane_trainval.txt')]\n",
    "cycle = dict([line.strip().split('  ') for line in open('bicycle_trainval.txt')])\n",
    "bird = dict([line.strip().split('  ') for line in open('bird_trainval.txt')])\n",
    "boat = dict([line.strip().split('  ') for line in open('boat_trainval.txt')])\n",
    "bottle = dict([line.strip().split('  ') for line in open('bottle_trainval.txt')])\n",
    "bus = dict([line.strip().split('  ') for line in open('bus_trainval.txt')])\n",
    "car = dict([line.strip().split('  ') for line in open('car_trainval.txt')])\n",
    "cat = dict([line.strip().split('  ') for line in open('cat_trainval.txt')])\n",
    "chair = dict([line.strip().split('  ') for line in open('chair_trainval.txt')])\n",
    "cow = dict([line.strip().split('  ') for line in open('cow_trainval.txt')])\n",
    "dining = dict([line.strip().split('  ') for line in open('diningtable_trainval.txt')])\n",
    "dog = dict([line.strip().split('  ') for line in open('dog_trainval.txt')])\n",
    "horse = dict([line.strip().split('  ') for line in open('horse_trainval.txt')])\n",
    "bike = dict([line.strip().split('  ') for line in open('motorbike_trainval.txt')])\n",
    "person = dict([line.strip().split('  ') for line in open('person_trainval.txt')])\n",
    "sheep = dict([line.strip().split('  ') for line in open('sheep_trainval.txt')])\n",
    "sofa = dict([line.strip().split('  ') for line in open('sofa_trainval.txt')])\n",
    "train = dict([line.strip().split('  ') for line in open('train_trainval.txt')])\n",
    "tv = dict([line.strip().split('  ') for line in open('tvmonitor_trainval.txt')])\n",
    "\n",
    "train_val = [line.strip() for line in open('trainval.txt')]"
   ]
  },
  {
   "cell_type": "code",
   "execution_count": 4,
   "metadata": {},
   "outputs": [],
   "source": [
    "os.chdir(tvpath)\n",
    "feature = [np.float32(np.squeeze(cv2.resize(cv2.imread(file+'.jpg' , cv2.IMREAD_GRAYSCALE), (256,256), interpolation = cv2.INTER_AREA))).ravel() for file in train_val]\n",
    "#img = cv2.resize(cv2.cvtColor(cv2.imread(file+'.jpg'), cv2.COLOR_BGR2GRAY), (256,256), interpolation = cv2.INTER_AREA)\n",
    "#labels = np.array([(aero[key], cycle[key], bird[key], boat[key], bottle[key], bus[key], car[key], cat[key], chair[key], cow[key], dining[key], dog[key], horse[key], bike[key], person[key], sheep[key], sofa[key], train[key], tv[key]) for key in train_val], dtype=object)\n",
    "classes = ['aero', 'cycle', 'bird', 'boat', 'bottle', 'bus', 'car', 'cat', 'chair', 'cow', 'dining', 'dog', 'horse', 'bike', 'person', 'sheep', 'sofa', 'train', 'tv']"
   ]
  },
  {
   "cell_type": "code",
   "execution_count": 5,
   "metadata": {},
   "outputs": [],
   "source": [
    "label = np.asarray(list(map(int, aero)))"
   ]
  },
  {
   "cell_type": "code",
   "execution_count": 8,
   "metadata": {},
   "outputs": [
    {
     "name": "stdout",
     "output_type": "stream",
     "text": [
      "Cross Validation scores:  [ 0.88235294  0.89705882  0.88235294  0.88235294  0.92537313]\n",
      "Accuracy: 0.89 (+/- 0.03)\n"
     ]
    }
   ],
   "source": [
    "from sklearn import svm\n",
    "from sklearn.model_selection import cross_val_score\n",
    "\n",
    "clf = svm.SVC(kernel='linear', C=1)\n",
    "\n",
    "scores = cross_val_score(clf, feature, label, cv=5)\n",
    "\n",
    "print (\"Cross Validation scores: \", scores)\n",
    "\n",
    "print(\"Accuracy: %0.2f (+/- %0.2f)\" % (scores.mean(), scores.std() * 2))"
   ]
  },
  {
   "cell_type": "code",
   "execution_count": null,
   "metadata": {},
   "outputs": [],
   "source": []
  }
 ],
 "metadata": {
  "kernelspec": {
   "display_name": "Python 3",
   "language": "python",
   "name": "python3"
  },
  "language_info": {
   "codemirror_mode": {
    "name": "ipython",
    "version": 3
   },
   "file_extension": ".py",
   "mimetype": "text/x-python",
   "name": "python",
   "nbconvert_exporter": "python",
   "pygments_lexer": "ipython3",
   "version": "3.6.5"
  }
 },
 "nbformat": 4,
 "nbformat_minor": 2
}
